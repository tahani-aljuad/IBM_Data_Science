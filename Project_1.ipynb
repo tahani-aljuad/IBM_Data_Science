{
 "cells": [
  {
   "cell_type": "markdown",
   "metadata": {
    "collapsed": true
   },
   "source": [
    "# 'My Jupyter Notebook on IBM Watson Studio'"
   ]
  },
  {
   "cell_type": "markdown",
   "metadata": {},
   "source": [
    "**Tahani Aljuaid**\n",
    "\n",
    "Data Scientist"
   ]
  },
  {
   "cell_type": "markdown",
   "metadata": {},
   "source": [
    "*I llike to analysis, Play, and building Model in Data*"
   ]
  },
  {
   "cell_type": "markdown",
   "metadata": {},
   "source": [
    "### Create a List "
   ]
  },
  {
   "cell_type": "code",
   "execution_count": 2,
   "metadata": {},
   "outputs": [
    {
     "data": {
      "text/plain": [
       "[1, 2, 3, 4]"
      ]
     },
     "execution_count": 2,
     "metadata": {},
     "output_type": "execute_result"
    }
   ],
   "source": [
    "x=[1,2,3,4]\n",
    "x"
   ]
  },
  {
   "cell_type": "markdown",
   "metadata": {},
   "source": [
    "This is \n",
    "\n",
    "---\n",
    "\n",
    "a horizontal rule\n",
    "\n",
    "---\n",
    "\n",
    "⋅⋅* bulleted list.\n",
    "\n",
    "\n",
    "1. numbered list1\n",
    "2. numbered list2\n",
    "\n",
    "| col1          | col2          | col3      |\n",
    "| ------------- |:-------------:| ---------:|\n",
    "| raw1-col1.    | raw1-col2.    | raw1-col3 |\n",
    "| raw2-col1.    | raw2-col2.    | raw2-col3 |\n",
    "\n",
    "hyperlinks\n",
    "[Ihyperlinks](https://www.google.com)\n",
    "\n",
    "\n",
    "![alt text](https://github.com/tahani-aljuad/IBM_Data_Science/blob/c1b680b4dbf541a2ce0438ed9d9585710fd6714c/IBM_Logo.png)\n",
    "\n",
    "\n",
    "This `Word` is `highlighted` .\n",
    "\n",
    "\n",
    "> Blockquotes \n"
   ]
  },
  {
   "cell_type": "code",
   "execution_count": null,
   "metadata": {},
   "outputs": [],
   "source": []
  },
  {
   "cell_type": "code",
   "execution_count": null,
   "metadata": {},
   "outputs": [],
   "source": []
  },
  {
   "cell_type": "code",
   "execution_count": null,
   "metadata": {},
   "outputs": [],
   "source": []
  }
 ],
 "metadata": {
  "kernelspec": {
   "display_name": "Python 3.10",
   "language": "python",
   "name": "python3"
  },
  "language_info": {
   "codemirror_mode": {
    "name": "ipython",
    "version": 3
   },
   "file_extension": ".py",
   "mimetype": "text/x-python",
   "name": "python",
   "nbconvert_exporter": "python",
   "pygments_lexer": "ipython3",
   "version": "3.10.6"
  }
 },
 "nbformat": 4,
 "nbformat_minor": 1
}
